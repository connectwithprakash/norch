{
 "cells": [
  {
   "cell_type": "code",
   "execution_count": 1,
   "metadata": {},
   "outputs": [],
   "source": [
    "%load_ext autoreload\n",
    "%autoreload 2"
   ]
  },
  {
   "attachments": {},
   "cell_type": "markdown",
   "metadata": {},
   "source": [
    "## 1. Imports"
   ]
  },
  {
   "cell_type": "code",
   "execution_count": 2,
   "metadata": {},
   "outputs": [],
   "source": [
    "import gzip\n",
    "import pickle\n",
    "import numpy as np\n",
    "import pandas as pd\n",
    "import matplotlib.pyplot as plt\n",
    "from sklearn.decomposition import PCA\n",
    "from sklearn.metrics import accuracy_score\n",
    "from sklearn.metrics import classification_report\n",
    "from sklearn.model_selection import train_test_split\n",
    "\n",
    "\n",
    "\n",
    "from norch.nn import MLP\n",
    "from norch.optim import SGD\n",
    "from norch.loss import HingeLoss, CrossEntropyWithLogitsLoss"
   ]
  },
  {
   "attachments": {},
   "cell_type": "markdown",
   "metadata": {},
   "source": [
    "## 2. Data"
   ]
  },
  {
   "attachments": {},
   "cell_type": "markdown",
   "metadata": {},
   "source": [
    "### 2.1. Load Data"
   ]
  },
  {
   "cell_type": "code",
   "execution_count": 53,
   "metadata": {},
   "outputs": [],
   "source": [
    "# load and decompress the dictionary from the file using pickle and gzip\n",
    "with gzip.open('data/mnist.pkl.gz', 'rb') as f:\n",
    "    loaded_dict = pickle.load(f)\n",
    "\n",
    "# print the loaded dictionary\n",
    "X = loaded_dict['X']\n",
    "y = loaded_dict['y']\n"
   ]
  },
  {
   "cell_type": "code",
   "execution_count": 4,
   "metadata": {},
   "outputs": [
    {
     "name": "stdout",
     "output_type": "stream",
     "text": [
      "Shape of X:  (70000, 784)\n",
      "Shape of y:  (70000,)\n",
      "Number of unique labels:  10\n"
     ]
    },
    {
     "data": {
      "image/png": "[encoded data removed]",
      "text/plain": [
       "<Figure size 1000x500 with 10 Axes>"
      ]
     },
     "metadata": {},
     "output_type": "display_data"
    }
   ],
   "source": [
    "# Data exploration of mnist dataset\n",
    "print(\"Shape of X: \", X.shape)\n",
    "print(\"Shape of y: \", y.shape)\n",
    "\n",
    "print(\"Number of unique labels: \", len(np.unique(y)))\n",
    "\n",
    "# Plot some examples from the dataset\n",
    "fig, ax = plt.subplots(2, 5, figsize=(10, 5))\n",
    "for i in range(2):\n",
    "    for j in range(5):\n",
    "        ax[i, j].imshow(X[np.random.randint(0, len(X))].reshape(28, 28), cmap='gray')\n",
    "        ax[i, j].axis('off')"
   ]
  },
  {
   "attachments": {},
   "cell_type": "markdown",
   "metadata": {},
   "source": [
    "From the we see that MNIST dataset has 70,000 image data points. Each image is 28x28 pixels. The labels are the digits 0-9."
   ]
  },
  {
   "cell_type": "code",
   "execution_count": 5,
   "metadata": {},
   "outputs": [
    {
     "data": {
      "image/png": "[encoded data removed]",
      "text/plain": [
       "<Figure size 640x480 with 1 Axes>"
      ]
     },
     "metadata": {},
     "output_type": "display_data"
    }
   ],
   "source": [
    "# Visualize class distribution\n",
    "plt.hist(y, bins=10)\n",
    "plt.title(\"Class distribution\")\n",
    "plt.show()"
   ]
  },
  {
   "attachments": {},
   "cell_type": "markdown",
   "metadata": {},
   "source": [
    "From the above plot we see that the data is balanced. Each digit has approximately 7,000 images."
   ]
  },
  {
   "attachments": {},
   "cell_type": "markdown",
   "metadata": {},
   "source": [
    "### 2.3. Data Preprocessing"
   ]
  },
  {
   "cell_type": "code",
   "execution_count": 6,
   "metadata": {},
   "outputs": [
    {
     "name": "stdout",
     "output_type": "stream",
     "text": [
      "Training set size: 34300\n",
      "Validation set size: 14700\n",
      "Test set size: 21000\n"
     ]
    }
   ],
   "source": [
    "# Convert to one-hot encoding\n",
    "y_onehot = np.zeros((len(y), 10))\n",
    "y_onehot[np.arange(len(y)), y.astype(int)] = 1\n",
    "\n",
    "\n",
    "# Split data into train, val, and test\n",
    "X_train, X_test, y_train, y_test = train_test_split(\n",
    "    X, y_onehot, test_size=0.3, random_state=42, stratify=y, shuffle=True)\n",
    "X_train, X_val, y_train, y_val = train_test_split(\n",
    "    X_train, y_train, test_size=0.3, random_state=42, stratify=y_train, shuffle=True)\n",
    "\n",
    "print(f\"Training set size: {len(X_train)}\")\n",
    "print(f\"Validation set size: {len(X_val)}\")\n",
    "print(f\"Test set size: {len(X_test)}\")"
   ]
  },
  {
   "cell_type": "code",
   "execution_count": 7,
   "metadata": {},
   "outputs": [],
   "source": [
    "# Normalize data\n",
    "X_train = X_train / 255\n",
    "X_val = X_val / 255\n",
    "X_test = X_test / 255"
   ]
  },
  {
   "attachments": {},
   "cell_type": "markdown",
   "metadata": {},
   "source": [
    "### 2.4. Feature Engineering"
   ]
  },
  {
   "cell_type": "code",
   "execution_count": 8,
   "metadata": {},
   "outputs": [],
   "source": [
    "# Dimensionality reduction using PCA\n",
    "pca = PCA(n_components=0.95)\n",
    "X_train = pca.fit_transform(X_train)\n",
    "X_val = pca.transform(X_val)\n",
    "X_test = pca.transform(X_test)"
   ]
  },
  {
   "attachments": {},
   "cell_type": "markdown",
   "metadata": {},
   "source": [
    "## 3. Modeling \n",
    "### 3.1. Model variables"
   ]
  },
  {
   "cell_type": "code",
   "execution_count": 9,
   "metadata": {},
   "outputs": [],
   "source": [
    "# Set varaibles\n",
    "input_dim = X_train.shape[1]\n",
    "output_dim = y_train.shape[1]\n",
    "\n",
    "learning_rate = 0.01\n",
    "batch_size = 64\n",
    "epochs = 100\n",
    "\n",
    "# Patience for early stopping (number of epochs to wait before stopping). This is used to prevent overfitting and stop training when the model stops improving for a certain number of epochs.\n",
    "patience = 10\n"
   ]
  },
  {
   "attachments": {},
   "cell_type": "markdown",
   "metadata": {},
   "source": [
    "## 4. Model with 2 Hidden Layers \n",
    "### (Sigmoid Activation and Cross Entropy Loss)"
   ]
  },
  {
   "attachments": {},
   "cell_type": "markdown",
   "metadata": {},
   "source": [
    "### 4.1. Model Selection\n",
    "Here, we train a model with 2 hidden layers with `Sigmoid` activation, `CrossEntropyWithLogits` loss and `SGD` optimizer. We find the best learning rate using grid search by training on train set and validating on val set. We reserve test set for final evaluation. We then train the model with the best learning rate on the entire train and val set, and evaluate on test set."
   ]
  },
  {
   "cell_type": "code",
   "execution_count": 10,
   "metadata": {},
   "outputs": [],
   "source": [
    "hidden_dims = [128, 64]"
   ]
  },
  {
   "cell_type": "code",
   "execution_count": 11,
   "metadata": {},
   "outputs": [
    {
     "name": "stdout",
     "output_type": "stream",
     "text": [
      "Learning rate: 0.5 Train accuracy: 99.28% Val accuracy: 93.24%\n",
      "Learning rate: 0.1 Train accuracy: 98.55% Val accuracy: 93.07%\n",
      "Learning rate: 0.01 Train accuracy: 89.67% Val accuracy: 87.69%\n"
     ]
    }
   ],
   "source": [
    "# Grid search\n",
    "best_learning_rate = 0  # initialize the best learning rate to zero\n",
    "best_val_accuracy = 0  # initialize the best validation accuracy to zero\n",
    "for learning_rate in [0.5, 0.1, 0.01]:  # loop through different learning rates to find the best one\n",
    "    # create a MLP model with specified architecture, optimizer with current learning rate, and loss function\n",
    "    model_2h = MLP(input_dim=input_dim, hidden_dims=hidden_dims, output_dim=output_dim, init_method='normal', activation='sigmoid', verbose=False)\n",
    "    optimizer = SGD(model_2h.param, lr=learning_rate)\n",
    "    loss_fn = CrossEntropyWithLogitsLoss()\n",
    "    \n",
    "    # train the model on the training data, with early stopping and validation set to monitor the model's performance\n",
    "    train_loss, val_loss = model_2h.fit(X_train=X_train, y_train=y_train, loss_fn=loss_fn, optimizer_fn=optimizer, X_val=X_test, y_val=y_test, batch_size=batch_size, epochs=epochs, patience=patience)\n",
    "    \n",
    "    # predict the labels of the training and validation sets and calculate their accuracy\n",
    "    train_y_pred = model_2h.predict(X_train)\n",
    "    val_y_pred = model_2h.predict(X_val)\n",
    "    train_accuracy = accuracy_score(y_train.argmax(axis=1), train_y_pred.argmax(axis=1))*100\n",
    "    val_accuracy = accuracy_score(y_val.argmax(axis=1), val_y_pred.argmax(axis=1))*100\n",
    "    \n",
    "    # update the best validation accuracy and learning rate if the current validation accuracy is higher\n",
    "    if val_accuracy > best_val_accuracy:\n",
    "        best_val_accuracy = val_accuracy\n",
    "        best_learning_rate = learning_rate\n",
    "        \n",
    "    # print the learning rate, training accuracy, and validation accuracy for the current iteration\n",
    "    print(f\"Learning rate: {learning_rate} Train accuracy: {train_accuracy:.2f}% Val accuracy: {val_accuracy:.2f}%\")\n"
   ]
  },
  {
   "attachments": {},
   "cell_type": "markdown",
   "metadata": {},
   "source": [
    "### 4.2. Model training for 2 hidden layers with best learning rate"
   ]
  },
  {
   "cell_type": "code",
   "execution_count": 12,
   "metadata": {},
   "outputs": [
    {
     "name": "stdout",
     "output_type": "stream",
     "text": [
      "MLP(\n",
      "  (0): Linear(in_features=153, out_features=128, init_method=\"normal\")\n",
      "  (1): Sigmoid()\n",
      "  (2): Linear(in_features=128, out_features=64, init_method=\"normal\")\n",
      "  (3): Sigmoid()\n",
      "  (4): Linear(in_features=64, out_features=10, init_method=\"normal\")\n",
      ")\n"
     ]
    }
   ],
   "source": [
    "# Print model architecture\n",
    "print(model_2h)"
   ]
  },
  {
   "cell_type": "code",
   "execution_count": 13,
   "metadata": {},
   "outputs": [
    {
     "name": "stdout",
     "output_type": "stream",
     "text": [
      "Training with best learning rate of 0.5 from model selection...\n",
      "Epoch [1/100] - train_loss: 0.7510 - val_loss: 0.4675\n",
      "Epoch [2/100] - train_loss: 0.3663 - val_loss: 0.3627\n",
      "Epoch [3/100] - train_loss: 0.2883 - val_loss: 0.3210\n",
      "Epoch [4/100] - train_loss: 0.2425 - val_loss: 0.2941\n",
      "Epoch [5/100] - train_loss: 0.2112 - val_loss: 0.2759\n",
      "Epoch [6/100] - train_loss: 0.1873 - val_loss: 0.2576\n",
      "Epoch [7/100] - train_loss: 0.1687 - val_loss: 0.2482\n",
      "Epoch [8/100] - train_loss: 0.1524 - val_loss: 0.2402\n",
      "Epoch [9/100] - train_loss: 0.1391 - val_loss: 0.2368\n",
      "Epoch [10/100] - train_loss: 0.1275 - val_loss: 0.2355\n",
      "Epoch [11/100] - train_loss: 0.1169 - val_loss: 0.2309\n",
      "Epoch [12/100] - train_loss: 0.1076 - val_loss: 0.2288\n",
      "Epoch [13/100] - train_loss: 0.1000 - val_loss: 0.2231\n",
      "Epoch [14/100] - train_loss: 0.0922 - val_loss: 0.2231\n",
      "Epoch [15/100] - train_loss: 0.0860 - val_loss: 0.2186\n",
      "Epoch [16/100] - train_loss: 0.0797 - val_loss: 0.2181\n",
      "Epoch [17/100] - train_loss: 0.0743 - val_loss: 0.2196\n",
      "Epoch [18/100] - train_loss: 0.0693 - val_loss: 0.2161\n",
      "Epoch [19/100] - train_loss: 0.0645 - val_loss: 0.2168\n",
      "Epoch [20/100] - train_loss: 0.0604 - val_loss: 0.2176\n",
      "Epoch [21/100] - train_loss: 0.0562 - val_loss: 0.2181\n",
      "Epoch [22/100] - train_loss: 0.0528 - val_loss: 0.2179\n",
      "Epoch [23/100] - train_loss: 0.0491 - val_loss: 0.2196\n",
      "Epoch [24/100] - train_loss: 0.0461 - val_loss: 0.2237\n",
      "Epoch [25/100] - train_loss: 0.0433 - val_loss: 0.2195\n",
      "Epoch [26/100] - train_loss: 0.0405 - val_loss: 0.2217\n",
      "Epoch [27/100] - train_loss: 0.0382 - val_loss: 0.2205\n",
      "Early stopping\n"
     ]
    }
   ],
   "source": [
    "# Initialize the MLP model with given input, hidden and output dimensions, using 'normal' initialization and 'sigmoid' activation function\n",
    "model_2h = MLP(input_dim, hidden_dims, output_dim, init_method='normal', activation='sigmoid', verbose=True)\n",
    "\n",
    "# Initialize SGD optimizer with best learning rate from model selection\n",
    "optimizer = SGD(model_2h.param, lr=best_learning_rate)\n",
    "\n",
    "# Initialize the CrossEntropyWithLogitsLoss\n",
    "loss_fn = CrossEntropyWithLogitsLoss()\n",
    "\n",
    "# Concatenate the training and validation data along the first axis\n",
    "X_train_val = np.concatenate((X_train, X_val), axis=0)\n",
    "y_train_val = np.concatenate((y_train, y_val), axis=0)\n",
    "\n",
    "# Train the model on the concatenated training and validation data and evaluate on the test data\n",
    "# Use the CrossEntropyWithLogitsLoss as loss function and SGD optimizer\n",
    "# Use a batch size of 'batch_size' and train for 'epochs' with early stopping if val loss does not improve for 'patience' epochs\n",
    "print(f\"Training with best learning rate of {best_learning_rate} from model selection...\")\n",
    "train_loss, val_loss = model_2h.fit(X_train=X_train_val, y_train=y_train_val, loss_fn=loss_fn, optimizer_fn=optimizer, X_val=X_test, y_val=y_test, batch_size=batch_size, epochs=epochs, patience=patience)\n"
   ]
  },
  {
   "attachments": {},
   "cell_type": "markdown",
   "metadata": {},
   "source": [
    "### 4.3. Model Evaluation"
   ]
  },
  {
   "attachments": {},
   "cell_type": "markdown",
   "metadata": {},
   "source": [
    "#### 4.3.1. Loss plot"
   ]
  },
  {
   "cell_type": "code",
   "execution_count": 14,
   "metadata": {},
   "outputs": [
    {
     "data": {
      "image/png": "[encoded data removed]",
      "text/plain": [
       "<Figure size 640x480 with 1 Axes>"
      ]
     },
     "metadata": {},
     "output_type": "display_data"
    }
   ],
   "source": [
    "# Plot loss using matplotlib\n",
    "plt.plot(train_loss, label='train')\n",
    "plt.plot(val_loss, label='val')\n",
    "plt.title('Loss')\n",
    "plt.legend()\n",
    "plt.show()"
   ]
  },
  {
   "attachments": {},
   "cell_type": "markdown",
   "metadata": {},
   "source": [
    "#### 4.3.2. Accuracy  and Classification Report"
   ]
  },
  {
   "cell_type": "code",
   "execution_count": 30,
   "metadata": {},
   "outputs": [
    {
     "name": "stdout",
     "output_type": "stream",
     "text": [
      "Test accuracy: 94.21000000000001 %\n"
     ]
    },
    {
     "data": {
      "text/html": [
       "<div>\n",
       "<style scoped>\n",
       "    .dataframe tbody tr th:only-of-type {\n",
       "        vertical-align: middle;\n",
       "    }\n",
       "\n",
       "    .dataframe tbody tr th {\n",
       "        vertical-align: top;\n",
       "    }\n",
       "\n",
       "    .dataframe thead th {\n",
       "        text-align: right;\n",
       "    }\n",
       "</style>\n",
       "<table border=\"1\" class=\"dataframe\">\n",
       "  <thead>\n",
       "    <tr style=\"text-align: right;\">\n",
       "      <th></th>\n",
       "      <th>precision</th>\n",
       "      <th>recall</th>\n",
       "      <th>f1-score</th>\n",
       "      <th>support</th>\n",
       "    </tr>\n",
       "    <tr>\n",
       "      <th>class</th>\n",
       "      <th></th>\n",
       "      <th></th>\n",
       "      <th></th>\n",
       "      <th></th>\n",
       "    </tr>\n",
       "  </thead>\n",
       "  <tbody>\n",
       "    <tr>\n",
       "      <th>0</th>\n",
       "      <td>0.95</td>\n",
       "      <td>0.98</td>\n",
       "      <td>0.96</td>\n",
       "      <td>2071</td>\n",
       "    </tr>\n",
       "    <tr>\n",
       "      <th>1</th>\n",
       "      <td>0.98</td>\n",
       "      <td>0.98</td>\n",
       "      <td>0.98</td>\n",
       "      <td>2363</td>\n",
       "    </tr>\n",
       "    <tr>\n",
       "      <th>2</th>\n",
       "      <td>0.95</td>\n",
       "      <td>0.92</td>\n",
       "      <td>0.94</td>\n",
       "      <td>2097</td>\n",
       "    </tr>\n",
       "    <tr>\n",
       "      <th>3</th>\n",
       "      <td>0.93</td>\n",
       "      <td>0.92</td>\n",
       "      <td>0.93</td>\n",
       "      <td>2142</td>\n",
       "    </tr>\n",
       "    <tr>\n",
       "      <th>4</th>\n",
       "      <td>0.94</td>\n",
       "      <td>0.94</td>\n",
       "      <td>0.94</td>\n",
       "      <td>2047</td>\n",
       "    </tr>\n",
       "    <tr>\n",
       "      <th>5</th>\n",
       "      <td>0.93</td>\n",
       "      <td>0.92</td>\n",
       "      <td>0.92</td>\n",
       "      <td>1894</td>\n",
       "    </tr>\n",
       "    <tr>\n",
       "      <th>6</th>\n",
       "      <td>0.95</td>\n",
       "      <td>0.96</td>\n",
       "      <td>0.96</td>\n",
       "      <td>2063</td>\n",
       "    </tr>\n",
       "    <tr>\n",
       "      <th>7</th>\n",
       "      <td>0.95</td>\n",
       "      <td>0.95</td>\n",
       "      <td>0.95</td>\n",
       "      <td>2188</td>\n",
       "    </tr>\n",
       "    <tr>\n",
       "      <th>8</th>\n",
       "      <td>0.91</td>\n",
       "      <td>0.93</td>\n",
       "      <td>0.92</td>\n",
       "      <td>2048</td>\n",
       "    </tr>\n",
       "    <tr>\n",
       "      <th>9</th>\n",
       "      <td>0.92</td>\n",
       "      <td>0.92</td>\n",
       "      <td>0.92</td>\n",
       "      <td>2087</td>\n",
       "    </tr>\n",
       "    <tr>\n",
       "      <th>accuracy</th>\n",
       "      <td>0.94</td>\n",
       "      <td>0.94</td>\n",
       "      <td>0.94</td>\n",
       "      <td>0</td>\n",
       "    </tr>\n",
       "    <tr>\n",
       "      <th>macro avg</th>\n",
       "      <td>0.94</td>\n",
       "      <td>0.94</td>\n",
       "      <td>0.94</td>\n",
       "      <td>21000</td>\n",
       "    </tr>\n",
       "    <tr>\n",
       "      <th>weighted avg</th>\n",
       "      <td>0.94</td>\n",
       "      <td>0.94</td>\n",
       "      <td>0.94</td>\n",
       "      <td>21000</td>\n",
       "    </tr>\n",
       "  </tbody>\n",
       "</table>\n",
       "</div>"
      ],
      "text/plain": [
       "              precision  recall  f1-score  support\n",
       "class                                             \n",
       "0                  0.95    0.98      0.96     2071\n",
       "1                  0.98    0.98      0.98     2363\n",
       "2                  0.95    0.92      0.94     2097\n",
       "3                  0.93    0.92      0.93     2142\n",
       "4                  0.94    0.94      0.94     2047\n",
       "5                  0.93    0.92      0.92     1894\n",
       "6                  0.95    0.96      0.96     2063\n",
       "7                  0.95    0.95      0.95     2188\n",
       "8                  0.91    0.93      0.92     2048\n",
       "9                  0.92    0.92      0.92     2087\n",
       "accuracy           0.94    0.94      0.94        0\n",
       "macro avg          0.94    0.94      0.94    21000\n",
       "weighted avg       0.94    0.94      0.94    21000"
      ]
     },
     "execution_count": 30,
     "metadata": {},
     "output_type": "execute_result"
    }
   ],
   "source": [
    "# Predict the classes for the test set\n",
    "y_pred = model_2h.predict(X_test)\n",
    "\n",
    "# Calculate the accuracy of the predicted classes compared to true labels in test set\n",
    "accuracy = accuracy_score(y_test.argmax(axis=1), y_pred.argmax(axis=1)).round(4)*100\n",
    "\n",
    "# Print the accuracy on the test set\n",
    "print(f\"Test accuracy: {accuracy} %\")\n",
    "\n",
    "# Generate classification report which includes precision, recall, f1-score, and support for each class in the test set\n",
    "report = classification_report(y_test.argmax(axis=1), y_pred.argmax(axis=1), output_dict=True)\n",
    "\n",
    "# Convert the report to a Pandas DataFrame and set the index name to 'class'\n",
    "report = pd.DataFrame(report).transpose().round(2)\n",
    "report['support'] = report['support'].astype(int)\n",
    "report.index.name = 'class'\n",
    "report"
   ]
  },
  {
   "attachments": {},
   "cell_type": "markdown",
   "metadata": {},
   "source": [
    "### 4.4. Predictions"
   ]
  },
  {
   "cell_type": "code",
   "execution_count": 16,
   "metadata": {},
   "outputs": [
    {
     "data": {
      "image/png": "[encoded data removed]",
      "text/plain": [
       "<Figure size 1500x500 with 10 Axes>"
      ]
     },
     "metadata": {},
     "output_type": "display_data"
    }
   ],
   "source": [
    "# Plot some of the correctly classified images and misclassified images in a 2x5 grid\n",
    "# Use the predict method to get the predicted class for each image in the test set\n",
    "y_pred = model_2h.predict(X_test)\n",
    "\n",
    "# Get the indices of the correctly classified images\n",
    "correct_indices = np.where(y_pred.argmax(axis=1) == y_test.argmax(axis=1))[0]\n",
    "\n",
    "# Get the indices of the misclassified images\n",
    "incorrect_indices = np.where(y_pred.argmax(axis=1) != y_test.argmax(axis=1))[0]\n",
    "\n",
    "# Plot the correctly classified images\n",
    "plt.figure(figsize=(15, 5))\n",
    "for i, index in enumerate(correct_indices[:5]):\n",
    "    plt.subplot(2, 5, i+1)\n",
    "    plt.imshow(pca.inverse_transform(X_test[index]).reshape(28, 28), cmap='gray')\n",
    "    plt.title(f\"Predicted: {y_pred[index].argmax()}\")\n",
    "    plt.axis('off')\n",
    "\n",
    "# Plot the misclassified images\n",
    "for i, index in enumerate(incorrect_indices[:5]):\n",
    "    plt.subplot(2, 5, i+6)\n",
    "    plt.imshow(pca.inverse_transform(X_test[index]).reshape(28, 28), cmap='gray')\n",
    "    plt.title(f\"Predicted: {y_pred[index].argmax()}\")\n",
    "    plt.axis('off')\n",
    "\n",
    "plt.show()"
   ]
  },
  {
   "attachments": {},
   "cell_type": "markdown",
   "metadata": {},
   "source": [
    "## 5. Three-layer MLP with 3 hidden units\n",
    "### (ReLU Activation and Hinge Loss)\n",
    "### 5.1. Model Selection\n",
    "Here, we train a model with 3 hidden layers with `ReLU` activation, `Hinge` loss and `SGD` optimizer. We find the best learning rate using grid search by training on train set and validating on val set. We reserve test set for final evaluation. We then train the model with the best learning rate on the entire train and val set, and evaluate on test set."
   ]
  },
  {
   "cell_type": "code",
   "execution_count": 19,
   "metadata": {},
   "outputs": [
    {
     "name": "stdout",
     "output_type": "stream",
     "text": [
      "Learning rate: 0.01 and margin: 1: Train accuracy: 95.27%, Val accuracy: 92.08%\n",
      "Learning rate: 0.01 and margin: 2: Train accuracy: 96.44%, Val accuracy: 93.01%\n",
      "Learning rate: 0.001 and margin: 1: Train accuracy: 87.24%, Val accuracy: 86.09%\n",
      "Learning rate: 0.001 and margin: 2: Train accuracy: 88.25%, Val accuracy: 86.97%\n"
     ]
    }
   ],
   "source": [
    "# Three layer MLP with 128, 64 and 32 hidden units\n",
    "hidden_dims = [128, 64, 32]\n",
    "\n",
    "# Grid search\n",
    "best_learning_rate = 0\n",
    "best_val_accuracy = 0\n",
    "best_margin = 0\n",
    "\n",
    "# Iterate over learning rates and train the model for each rate\n",
    "for learning_rate in [0.01, 0.001]:\n",
    "    for margin in [1, 2]:\n",
    "        # Initialize a three-layer MLP with sigmoid activation and normal initialization\n",
    "        model_h3 = MLP(input_dim=input_dim, hidden_dims=hidden_dims, output_dim=output_dim, init_method='normal', activation='relu', verbose=False)\n",
    "        # Initialize the optimizer with the current learning rate\n",
    "        optimizer = SGD(model_h3.param, lr=learning_rate)\n",
    "        # Initialize the loss function\n",
    "        loss_fn = HingeLoss(margin=margin)\n",
    "        \n",
    "        # Train the model using fit method\n",
    "        train_loss, val_loss = model_h3.fit(X_train=X_train, y_train=y_train, loss_fn=loss_fn, optimizer_fn=optimizer, X_val=X_test, y_val=y_test, batch_size=batch_size, epochs=epochs, patience=patience)\n",
    "        \n",
    "        # Get predictions and calculate accuracy\n",
    "        train_y_pred = model_h3.predict(X_train)\n",
    "        val_y_pred = model_h3.predict(X_val)\n",
    "        train_accuracy = accuracy_score(y_train.argmax(axis=1), train_y_pred.argmax(axis=1))*100\n",
    "        val_accuracy = accuracy_score(y_val.argmax(axis=1), val_y_pred.argmax(axis=1))*100\n",
    "        \n",
    "        # Check if the current validation accuracy is better than the best one found so far\n",
    "        if val_accuracy > best_val_accuracy:\n",
    "            best_val_accuracy = val_accuracy\n",
    "            best_learning_rate = learning_rate\n",
    "            best_margin = margin\n",
    "        \n",
    "        # Print the accuracy for the current learning rate\n",
    "        print(f\"Learning rate: {learning_rate} and margin: {margin}: Train accuracy: {train_accuracy:.2f}%, Val accuracy: {val_accuracy:.2f}%\")\n"
   ]
  },
  {
   "attachments": {},
   "cell_type": "markdown",
   "metadata": {},
   "source": [
    "### 5.2. Model training for 3 hidden layers with best learning rate"
   ]
  },
  {
   "cell_type": "code",
   "execution_count": 20,
   "metadata": {},
   "outputs": [
    {
     "name": "stdout",
     "output_type": "stream",
     "text": [
      "MLP(\n",
      "  (0): Linear(in_features=153, out_features=128, init_method=\"normal\")\n",
      "  (1): ReLU()\n",
      "  (2): Linear(in_features=128, out_features=64, init_method=\"normal\")\n",
      "  (3): ReLU()\n",
      "  (4): Linear(in_features=64, out_features=32, init_method=\"normal\")\n",
      "  (5): ReLU()\n",
      "  (6): Linear(in_features=32, out_features=10, init_method=\"normal\")\n",
      ")\n"
     ]
    }
   ],
   "source": [
    "# Print model architecture\n",
    "print(model_h3)"
   ]
  },
  {
   "cell_type": "code",
   "execution_count": 25,
   "metadata": {},
   "outputs": [
    {
     "name": "stdout",
     "output_type": "stream",
     "text": [
      "Training with best learning rate of 0.01 and margin of 2 from model selection ...\n",
      "\n",
      "Epoch [1/100] - train_loss: 48.3496 - val_loss: 8.5491\n",
      "Epoch [2/100] - train_loss: 5.9915 - val_loss: 5.8911\n",
      "Epoch [3/100] - train_loss: 4.0873 - val_loss: 4.2583\n",
      "Epoch [4/100] - train_loss: 3.3142 - val_loss: 5.0113\n",
      "Epoch [5/100] - train_loss: 2.7547 - val_loss: 2.8431\n",
      "Epoch [6/100] - train_loss: 2.4082 - val_loss: 2.6757\n",
      "Epoch [7/100] - train_loss: 2.1588 - val_loss: 2.9635\n",
      "Epoch [8/100] - train_loss: 1.9454 - val_loss: 2.2034\n",
      "Epoch [9/100] - train_loss: 1.7930 - val_loss: 2.7262\n",
      "Epoch [10/100] - train_loss: 1.6899 - val_loss: 2.2720\n",
      "Epoch [11/100] - train_loss: 1.5797 - val_loss: 2.3868\n",
      "Epoch [12/100] - train_loss: 1.5050 - val_loss: 1.8856\n",
      "Epoch [13/100] - train_loss: 1.4107 - val_loss: 1.9532\n",
      "Epoch [14/100] - train_loss: 1.3571 - val_loss: 2.2125\n",
      "Epoch [15/100] - train_loss: 1.3114 - val_loss: 2.3091\n",
      "Epoch [16/100] - train_loss: 1.2621 - val_loss: 1.9957\n",
      "Epoch [17/100] - train_loss: 1.1991 - val_loss: 1.6948\n",
      "Epoch [18/100] - train_loss: 1.1822 - val_loss: 1.7536\n",
      "Epoch [19/100] - train_loss: 1.1188 - val_loss: 1.5533\n",
      "Epoch [20/100] - train_loss: 1.0836 - val_loss: 1.4476\n",
      "Epoch [21/100] - train_loss: 1.0619 - val_loss: 1.4766\n",
      "Epoch [22/100] - train_loss: 1.0317 - val_loss: 1.4701\n",
      "Epoch [23/100] - train_loss: 1.0092 - val_loss: 1.4480\n",
      "Epoch [24/100] - train_loss: 0.9734 - val_loss: 1.3842\n",
      "Epoch [25/100] - train_loss: 0.9478 - val_loss: 1.3819\n",
      "Epoch [26/100] - train_loss: 0.9329 - val_loss: 1.4192\n",
      "Epoch [27/100] - train_loss: 0.9213 - val_loss: 1.4738\n",
      "Epoch [28/100] - train_loss: 0.9004 - val_loss: 1.3913\n",
      "Epoch [29/100] - train_loss: 0.8795 - val_loss: 1.3925\n",
      "Epoch [30/100] - train_loss: 0.8641 - val_loss: 1.2642\n",
      "Epoch [31/100] - train_loss: 0.8483 - val_loss: 1.3525\n",
      "Epoch [32/100] - train_loss: 0.8180 - val_loss: 1.2692\n",
      "Epoch [33/100] - train_loss: 0.8132 - val_loss: 1.4802\n",
      "Epoch [34/100] - train_loss: 0.7995 - val_loss: 1.6087\n",
      "Epoch [35/100] - train_loss: 0.7882 - val_loss: 1.2302\n",
      "Epoch [36/100] - train_loss: 0.7693 - val_loss: 1.4911\n",
      "Epoch [37/100] - train_loss: 0.7582 - val_loss: 1.2380\n",
      "Epoch [38/100] - train_loss: 0.7506 - val_loss: 1.1998\n",
      "Epoch [39/100] - train_loss: 0.7319 - val_loss: 1.1526\n",
      "Epoch [40/100] - train_loss: 0.7253 - val_loss: 1.3000\n",
      "Epoch [41/100] - train_loss: 0.7165 - val_loss: 1.0877\n",
      "Epoch [42/100] - train_loss: 0.7047 - val_loss: 1.1720\n",
      "Epoch [43/100] - train_loss: 0.6945 - val_loss: 1.1430\n",
      "Epoch [44/100] - train_loss: 0.6892 - val_loss: 1.1071\n",
      "Epoch [45/100] - train_loss: 0.6711 - val_loss: 1.1462\n",
      "Epoch [46/100] - train_loss: 0.6692 - val_loss: 1.0780\n",
      "Epoch [47/100] - train_loss: 0.6618 - val_loss: 1.1524\n",
      "Epoch [48/100] - train_loss: 0.6587 - val_loss: 1.0828\n",
      "Epoch [49/100] - train_loss: 0.6471 - val_loss: 1.0864\n",
      "Epoch [50/100] - train_loss: 0.6322 - val_loss: 1.2132\n",
      "Epoch [51/100] - train_loss: 0.6279 - val_loss: 1.0698\n",
      "Epoch [52/100] - train_loss: 0.6212 - val_loss: 1.0536\n",
      "Epoch [53/100] - train_loss: 0.6174 - val_loss: 1.0620\n",
      "Epoch [54/100] - train_loss: 0.6068 - val_loss: 1.1081\n",
      "Epoch [55/100] - train_loss: 0.6022 - val_loss: 1.0210\n",
      "Epoch [56/100] - train_loss: 0.5893 - val_loss: 1.0641\n",
      "Epoch [57/100] - train_loss: 0.5878 - val_loss: 1.0675\n",
      "Epoch [58/100] - train_loss: 0.5773 - val_loss: 1.0590\n",
      "Epoch [59/100] - train_loss: 0.5723 - val_loss: 1.0142\n",
      "Epoch [60/100] - train_loss: 0.5662 - val_loss: 1.0653\n",
      "Epoch [61/100] - train_loss: 0.5603 - val_loss: 1.0320\n",
      "Epoch [62/100] - train_loss: 0.5609 - val_loss: 1.0223\n",
      "Epoch [63/100] - train_loss: 0.5546 - val_loss: 1.1471\n",
      "Epoch [64/100] - train_loss: 0.5462 - val_loss: 1.1646\n",
      "Epoch [65/100] - train_loss: 0.5383 - val_loss: 1.0026\n",
      "Epoch [66/100] - train_loss: 0.5381 - val_loss: 1.0738\n",
      "Epoch [67/100] - train_loss: 0.5284 - val_loss: 1.0102\n",
      "Epoch [68/100] - train_loss: 0.5208 - val_loss: 1.0070\n",
      "Epoch [69/100] - train_loss: 0.5209 - val_loss: 1.0050\n",
      "Epoch [70/100] - train_loss: 0.5124 - val_loss: 0.9969\n",
      "Epoch [71/100] - train_loss: 0.5077 - val_loss: 1.0045\n",
      "Epoch [72/100] - train_loss: 0.5075 - val_loss: 1.0009\n",
      "Epoch [73/100] - train_loss: 0.4993 - val_loss: 1.0499\n",
      "Epoch [74/100] - train_loss: 0.4974 - val_loss: 0.9585\n",
      "Epoch [75/100] - train_loss: 0.4937 - val_loss: 0.9596\n",
      "Epoch [76/100] - train_loss: 0.4912 - val_loss: 0.9613\n",
      "Epoch [77/100] - train_loss: 0.4834 - val_loss: 0.9773\n",
      "Epoch [78/100] - train_loss: 0.4793 - val_loss: 1.0014\n",
      "Epoch [79/100] - train_loss: 0.4780 - val_loss: 1.0130\n",
      "Epoch [80/100] - train_loss: 0.4756 - val_loss: 0.9720\n",
      "Epoch [81/100] - train_loss: 0.4633 - val_loss: 0.9802\n",
      "Epoch [82/100] - train_loss: 0.4611 - val_loss: 0.9278\n",
      "Epoch [83/100] - train_loss: 0.4609 - val_loss: 0.9572\n",
      "Epoch [84/100] - train_loss: 0.4596 - val_loss: 0.9489\n",
      "Epoch [85/100] - train_loss: 0.4522 - val_loss: 0.9494\n",
      "Epoch [86/100] - train_loss: 0.4472 - val_loss: 1.0014\n",
      "Epoch [87/100] - train_loss: 0.4438 - val_loss: 0.9683\n",
      "Epoch [88/100] - train_loss: 0.4432 - val_loss: 0.9655\n",
      "Epoch [89/100] - train_loss: 0.4407 - val_loss: 0.9439\n",
      "Epoch [90/100] - train_loss: 0.4364 - val_loss: 0.9468\n",
      "Epoch [91/100] - train_loss: 0.4305 - val_loss: 0.9827\n",
      "Early stopping\n"
     ]
    }
   ],
   "source": [
    "# Three layer MLP with 128, 64, and 32 hidden units\n",
    "\n",
    "# Initialize the MLP model with given input, hidden and output dimensions, using 'normal' initialization and 'sigmoid' activation function\n",
    "model_h3 = MLP(input_dim, hidden_dims, output_dim, init_method='normal', activation='relu', verbose=True)\n",
    "\n",
    "# Initialize SGD optimizer with best learning rate from model selection\n",
    "optimizer = SGD(model_h3.param, lr=best_learning_rate)\n",
    "\n",
    "# Initialize the Hinge Loss function with best margin from model selection\n",
    "loss_fn = HingeLoss(margin=best_margin)\n",
    "\n",
    "# Concatenate the training and validation data along the first axis\n",
    "X_train_val = np.concatenate((X_train, X_val), axis=0)\n",
    "y_train_val = np.concatenate((y_train, y_val), axis=0)\n",
    "\n",
    "# Train the model on the concatenated training and validation data and evaluate on the test data\n",
    "# Use the CrossEntropyWithLogitsLoss as loss function and SGD optimizer\n",
    "# Use a batch size of 'batch_size' and train for 'epochs' with early stopping if val loss does not improve for 'patience' epochs\n",
    "print(f\"Training with best learning rate of {best_learning_rate} and margin of {best_margin} from model selection ...\\n\")\n",
    "train_loss, val_loss = model_h3.fit(X_train=X_train_val, y_train=y_train_val, loss_fn=loss_fn, optimizer_fn=optimizer, X_val=X_test, y_val=y_test, batch_size=batch_size, epochs=epochs, patience=patience)\n"
   ]
  },
  {
   "attachments": {},
   "cell_type": "markdown",
   "metadata": {},
   "source": [
    "### 5.3. Model Evaluation"
   ]
  },
  {
   "attachments": {},
   "cell_type": "markdown",
   "metadata": {},
   "source": [
    "#### 5.3.1. Loss plot"
   ]
  },
  {
   "cell_type": "code",
   "execution_count": 26,
   "metadata": {},
   "outputs": [
    {
     "data": {
      "image/png": "[encoded data removed]",
      "text/plain": [
       "<Figure size 640x480 with 1 Axes>"
      ]
     },
     "metadata": {},
     "output_type": "display_data"
    }
   ],
   "source": [
    "# Plot loss using matplotlib\n",
    "plt.plot(train_loss, label='train')\n",
    "plt.plot(val_loss, label='val')\n",
    "plt.title('Loss')\n",
    "plt.legend()\n",
    "plt.show()"
   ]
  },
  {
   "attachments": {},
   "cell_type": "markdown",
   "metadata": {},
   "source": [
    "#### 5.3.2. Accuracy and Classification Report"
   ]
  },
  {
   "cell_type": "code",
   "execution_count": 28,
   "metadata": {},
   "outputs": [
    {
     "name": "stdout",
     "output_type": "stream",
     "text": [
      "Test accuracy: 93.32857142857142 %\n"
     ]
    },
    {
     "data": {
      "text/html": [
       "<div>\n",
       "<style scoped>\n",
       "    .dataframe tbody tr th:only-of-type {\n",
       "        vertical-align: middle;\n",
       "    }\n",
       "\n",
       "    .dataframe tbody tr th {\n",
       "        vertical-align: top;\n",
       "    }\n",
       "\n",
       "    .dataframe thead th {\n",
       "        text-align: right;\n",
       "    }\n",
       "</style>\n",
       "<table border=\"1\" class=\"dataframe\">\n",
       "  <thead>\n",
       "    <tr style=\"text-align: right;\">\n",
       "      <th></th>\n",
       "      <th>precision</th>\n",
       "      <th>recall</th>\n",
       "      <th>f1-score</th>\n",
       "      <th>support</th>\n",
       "    </tr>\n",
       "    <tr>\n",
       "      <th>class</th>\n",
       "      <th></th>\n",
       "      <th></th>\n",
       "      <th></th>\n",
       "      <th></th>\n",
       "    </tr>\n",
       "  </thead>\n",
       "  <tbody>\n",
       "    <tr>\n",
       "      <th>0</th>\n",
       "      <td>0.97</td>\n",
       "      <td>0.97</td>\n",
       "      <td>0.97</td>\n",
       "      <td>2071</td>\n",
       "    </tr>\n",
       "    <tr>\n",
       "      <th>1</th>\n",
       "      <td>0.97</td>\n",
       "      <td>0.98</td>\n",
       "      <td>0.97</td>\n",
       "      <td>2363</td>\n",
       "    </tr>\n",
       "    <tr>\n",
       "      <th>2</th>\n",
       "      <td>0.98</td>\n",
       "      <td>0.87</td>\n",
       "      <td>0.92</td>\n",
       "      <td>2097</td>\n",
       "    </tr>\n",
       "    <tr>\n",
       "      <th>3</th>\n",
       "      <td>0.83</td>\n",
       "      <td>0.96</td>\n",
       "      <td>0.89</td>\n",
       "      <td>2142</td>\n",
       "    </tr>\n",
       "    <tr>\n",
       "      <th>4</th>\n",
       "      <td>0.95</td>\n",
       "      <td>0.92</td>\n",
       "      <td>0.94</td>\n",
       "      <td>2047</td>\n",
       "    </tr>\n",
       "    <tr>\n",
       "      <th>5</th>\n",
       "      <td>0.93</td>\n",
       "      <td>0.90</td>\n",
       "      <td>0.92</td>\n",
       "      <td>1894</td>\n",
       "    </tr>\n",
       "    <tr>\n",
       "      <th>6</th>\n",
       "      <td>0.94</td>\n",
       "      <td>0.98</td>\n",
       "      <td>0.96</td>\n",
       "      <td>2063</td>\n",
       "    </tr>\n",
       "    <tr>\n",
       "      <th>7</th>\n",
       "      <td>0.94</td>\n",
       "      <td>0.94</td>\n",
       "      <td>0.94</td>\n",
       "      <td>2188</td>\n",
       "    </tr>\n",
       "    <tr>\n",
       "      <th>8</th>\n",
       "      <td>0.91</td>\n",
       "      <td>0.90</td>\n",
       "      <td>0.90</td>\n",
       "      <td>2048</td>\n",
       "    </tr>\n",
       "    <tr>\n",
       "      <th>9</th>\n",
       "      <td>0.93</td>\n",
       "      <td>0.90</td>\n",
       "      <td>0.91</td>\n",
       "      <td>2087</td>\n",
       "    </tr>\n",
       "    <tr>\n",
       "      <th>accuracy</th>\n",
       "      <td>0.93</td>\n",
       "      <td>0.93</td>\n",
       "      <td>0.93</td>\n",
       "      <td>0</td>\n",
       "    </tr>\n",
       "    <tr>\n",
       "      <th>macro avg</th>\n",
       "      <td>0.94</td>\n",
       "      <td>0.93</td>\n",
       "      <td>0.93</td>\n",
       "      <td>21000</td>\n",
       "    </tr>\n",
       "    <tr>\n",
       "      <th>weighted avg</th>\n",
       "      <td>0.94</td>\n",
       "      <td>0.93</td>\n",
       "      <td>0.93</td>\n",
       "      <td>21000</td>\n",
       "    </tr>\n",
       "  </tbody>\n",
       "</table>\n",
       "</div>"
      ],
      "text/plain": [
       "              precision  recall  f1-score  support\n",
       "class                                             \n",
       "0                  0.97    0.97      0.97     2071\n",
       "1                  0.97    0.98      0.97     2363\n",
       "2                  0.98    0.87      0.92     2097\n",
       "3                  0.83    0.96      0.89     2142\n",
       "4                  0.95    0.92      0.94     2047\n",
       "5                  0.93    0.90      0.92     1894\n",
       "6                  0.94    0.98      0.96     2063\n",
       "7                  0.94    0.94      0.94     2188\n",
       "8                  0.91    0.90      0.90     2048\n",
       "9                  0.93    0.90      0.91     2087\n",
       "accuracy           0.93    0.93      0.93        0\n",
       "macro avg          0.94    0.93      0.93    21000\n",
       "weighted avg       0.94    0.93      0.93    21000"
      ]
     },
     "execution_count": 28,
     "metadata": {},
     "output_type": "execute_result"
    }
   ],
   "source": [
    "# Accuracy on train and test set\n",
    "y_pred = model_h3.predict(X_test)\n",
    "accuracy = accuracy_score(y_test.argmax(axis=1), y_pred.argmax(axis=1))*100\n",
    "print(f\"Test accuracy: {accuracy} %\")\n",
    "\n",
    "\n",
    "# Classification report\n",
    "report = classification_report(y_test.argmax(axis=1), y_pred.argmax(axis=1), output_dict=True)\n",
    "report = pd.DataFrame(report).transpose().round(2)\n",
    "report['support'] = report['support'].astype(int)\n",
    "report.index.name = 'class'\n",
    "report\n"
   ]
  },
  {
   "attachments": {},
   "cell_type": "markdown",
   "metadata": {},
   "source": [
    "### 5.4. Predictions"
   ]
  },
  {
   "cell_type": "code",
   "execution_count": 29,
   "metadata": {},
   "outputs": [
    {
     "data": {
      "image/png": "[encoded data removed]",
      "text/plain": [
       "<Figure size 1500x500 with 10 Axes>"
      ]
     },
     "metadata": {},
     "output_type": "display_data"
    }
   ],
   "source": [
    "# Plot some of the correctly classified images and misclassified images in a 2x5 grid\n",
    "# Use the predict method to get the predicted class for each image in the test set\n",
    "y_pred = model_h3.predict(X_test)\n",
    "\n",
    "# Get the indices of the correctly classified images\n",
    "correct_indices = np.where(y_pred.argmax(axis=1) == y_test.argmax(axis=1))[0]\n",
    "\n",
    "# Get the indices of the misclassified images\n",
    "incorrect_indices = np.where(y_pred.argmax(axis=1) != y_test.argmax(axis=1))[0]\n",
    "\n",
    "# Plot the correctly classified images\n",
    "plt.figure(figsize=(15, 5))\n",
    "for i, index in enumerate(correct_indices[:5]):\n",
    "    plt.subplot(2, 5, i+1)\n",
    "    plt.imshow(pca.inverse_transform(X_test[index]).reshape(28, 28), cmap='gray')\n",
    "    plt.title(f\"Predicted: {y_pred[index].argmax()}\")\n",
    "    plt.axis('off')\n",
    "\n",
    "# Plot the misclassified images\n",
    "for i, index in enumerate(incorrect_indices[:5]):\n",
    "    plt.subplot(2, 5, i+6)\n",
    "    plt.imshow(pca.inverse_transform(X_test[index]).reshape(28, 28), cmap='gray')\n",
    "    plt.title(f\"Predicted: {y_pred[index].argmax()}\")\n",
    "    plt.axis('off')\n",
    "\n",
    "plt.show()"
   ]
  },
  {
   "attachments": {},
   "cell_type": "markdown",
   "metadata": {},
   "source": [
    "## Conclusion\n",
    "- We have successfully implemented a three layer MLP from scratch and trained it on the MNIST dataset.\n",
    "- We used PCA to reduce the dimensionality of the data and then trained the model on the reduced data.\n",
    "- We used grid search to find the best learning rate for the model.\n",
    "- We used early stopping to prevent overfitting.\n",
    "- We used the CrossEntropyWithLogitsLoss and HingeLoss functions along with the SGD optimizer.\n",
    "- We achieved an accuracy more than 90% on the test set.\n",
    "\n",
    "## References\n",
    "- https://pytorch.org/blog/computational-graphs-constructed-in-pytorch/\n"
   ]
  },
  {
   "cell_type": "code",
   "execution_count": 41,
   "metadata": {},
   "outputs": [
    {
     "ename": "FileNotFoundError",
     "evalue": "[Errno 2] No such file or directory: '../../../../../Downloads/train-labels-idx1-ubyte'",
     "output_type": "error",
     "traceback": [
      "\u001b[0;31m---------------------------------------------------------------------------\u001b[0m",
      "\u001b[0;31mFileNotFoundError\u001b[0m                         Traceback (most recent call last)",
      "\u001b[1;32m/Users/bodhi/Documents/UAH/Spring 2022/CS637/homework1/Homework1.ipynb Cell 46\u001b[0m in \u001b[0;36m1\n\u001b[1;32m      <a href='vscode-notebook-cell:/Users/bodhi/Documents/UAH/Spring%202022/CS637/homework1/Homework1.ipynb#Y151sZmlsZQ%3D%3D?line=7'>8</a>\u001b[0m         X_train \u001b[39m=\u001b[39m np\u001b[39m.\u001b[39mfrombuffer(imgpath\u001b[39m.\u001b[39mread(), dtype\u001b[39m=\u001b[39mnp\u001b[39m.\u001b[39muint8, offset\u001b[39m=\u001b[39m\u001b[39m16\u001b[39m)\u001b[39m.\u001b[39mreshape(\u001b[39mlen\u001b[39m(y_train), \u001b[39m784\u001b[39m)\n\u001b[1;32m      <a href='vscode-notebook-cell:/Users/bodhi/Documents/UAH/Spring%202022/CS637/homework1/Homework1.ipynb#Y151sZmlsZQ%3D%3D?line=8'>9</a>\u001b[0m     \u001b[39mreturn\u001b[39;00m X_train, y_train\n\u001b[0;32m---> <a href='vscode-notebook-cell:/Users/bodhi/Documents/UAH/Spring%202022/CS637/homework1/Homework1.ipynb#Y151sZmlsZQ%3D%3D?line=10'>11</a>\u001b[0m X_train, y_train \u001b[39m=\u001b[39m read_mnist(\u001b[39m'\u001b[39;49m\u001b[39m../../../../../Downloads/train-images-idx3-ubyte\u001b[39;49m\u001b[39m'\u001b[39;49m, \u001b[39m'\u001b[39;49m\u001b[39m../../../../../Downloads/train-labels-idx1-ubyte\u001b[39;49m\u001b[39m'\u001b[39;49m)\n",
      "\u001b[1;32m/Users/bodhi/Documents/UAH/Spring 2022/CS637/homework1/Homework1.ipynb Cell 46\u001b[0m in \u001b[0;36m5\n\u001b[1;32m      <a href='vscode-notebook-cell:/Users/bodhi/Documents/UAH/Spring%202022/CS637/homework1/Homework1.ipynb#Y151sZmlsZQ%3D%3D?line=3'>4</a>\u001b[0m \u001b[39mdef\u001b[39;00m \u001b[39mread_mnist\u001b[39m(images_path, labels_path):\n\u001b[0;32m----> <a href='vscode-notebook-cell:/Users/bodhi/Documents/UAH/Spring%202022/CS637/homework1/Homework1.ipynb#Y151sZmlsZQ%3D%3D?line=4'>5</a>\u001b[0m     \u001b[39mwith\u001b[39;00m gzip\u001b[39m.\u001b[39;49mopen(labels_path, \u001b[39m'\u001b[39;49m\u001b[39mrb\u001b[39;49m\u001b[39m'\u001b[39;49m) \u001b[39mas\u001b[39;00m lbpath:\n\u001b[1;32m      <a href='vscode-notebook-cell:/Users/bodhi/Documents/UAH/Spring%202022/CS637/homework1/Homework1.ipynb#Y151sZmlsZQ%3D%3D?line=5'>6</a>\u001b[0m         y_train \u001b[39m=\u001b[39m np\u001b[39m.\u001b[39mfrombuffer(lbpath\u001b[39m.\u001b[39mread(), dtype\u001b[39m=\u001b[39mnp\u001b[39m.\u001b[39muint8, offset\u001b[39m=\u001b[39m\u001b[39m8\u001b[39m)\n\u001b[1;32m      <a href='vscode-notebook-cell:/Users/bodhi/Documents/UAH/Spring%202022/CS637/homework1/Homework1.ipynb#Y151sZmlsZQ%3D%3D?line=6'>7</a>\u001b[0m     \u001b[39mwith\u001b[39;00m gzip\u001b[39m.\u001b[39mopen(images_path, \u001b[39m'\u001b[39m\u001b[39mrb\u001b[39m\u001b[39m'\u001b[39m) \u001b[39mas\u001b[39;00m imgpath:\n",
      "File \u001b[0;32m/opt/homebrew/Cellar/python@3.10/3.10.8/Frameworks/Python.framework/Versions/3.10/lib/python3.10/gzip.py:58\u001b[0m, in \u001b[0;36mopen\u001b[0;34m(filename, mode, compresslevel, encoding, errors, newline)\u001b[0m\n\u001b[1;32m     56\u001b[0m gz_mode \u001b[39m=\u001b[39m mode\u001b[39m.\u001b[39mreplace(\u001b[39m\"\u001b[39m\u001b[39mt\u001b[39m\u001b[39m\"\u001b[39m, \u001b[39m\"\u001b[39m\u001b[39m\"\u001b[39m)\n\u001b[1;32m     57\u001b[0m \u001b[39mif\u001b[39;00m \u001b[39misinstance\u001b[39m(filename, (\u001b[39mstr\u001b[39m, \u001b[39mbytes\u001b[39m, os\u001b[39m.\u001b[39mPathLike)):\n\u001b[0;32m---> 58\u001b[0m     binary_file \u001b[39m=\u001b[39m GzipFile(filename, gz_mode, compresslevel)\n\u001b[1;32m     59\u001b[0m \u001b[39melif\u001b[39;00m \u001b[39mhasattr\u001b[39m(filename, \u001b[39m\"\u001b[39m\u001b[39mread\u001b[39m\u001b[39m\"\u001b[39m) \u001b[39mor\u001b[39;00m \u001b[39mhasattr\u001b[39m(filename, \u001b[39m\"\u001b[39m\u001b[39mwrite\u001b[39m\u001b[39m\"\u001b[39m):\n\u001b[1;32m     60\u001b[0m     binary_file \u001b[39m=\u001b[39m GzipFile(\u001b[39mNone\u001b[39;00m, gz_mode, compresslevel, filename)\n",
      "File \u001b[0;32m/opt/homebrew/Cellar/python@3.10/3.10.8/Frameworks/Python.framework/Versions/3.10/lib/python3.10/gzip.py:174\u001b[0m, in \u001b[0;36mGzipFile.__init__\u001b[0;34m(self, filename, mode, compresslevel, fileobj, mtime)\u001b[0m\n\u001b[1;32m    172\u001b[0m     mode \u001b[39m+\u001b[39m\u001b[39m=\u001b[39m \u001b[39m'\u001b[39m\u001b[39mb\u001b[39m\u001b[39m'\u001b[39m\n\u001b[1;32m    173\u001b[0m \u001b[39mif\u001b[39;00m fileobj \u001b[39mis\u001b[39;00m \u001b[39mNone\u001b[39;00m:\n\u001b[0;32m--> 174\u001b[0m     fileobj \u001b[39m=\u001b[39m \u001b[39mself\u001b[39m\u001b[39m.\u001b[39mmyfileobj \u001b[39m=\u001b[39m builtins\u001b[39m.\u001b[39;49mopen(filename, mode \u001b[39mor\u001b[39;49;00m \u001b[39m'\u001b[39;49m\u001b[39mrb\u001b[39;49m\u001b[39m'\u001b[39;49m)\n\u001b[1;32m    175\u001b[0m \u001b[39mif\u001b[39;00m filename \u001b[39mis\u001b[39;00m \u001b[39mNone\u001b[39;00m:\n\u001b[1;32m    176\u001b[0m     filename \u001b[39m=\u001b[39m \u001b[39mgetattr\u001b[39m(fileobj, \u001b[39m'\u001b[39m\u001b[39mname\u001b[39m\u001b[39m'\u001b[39m, \u001b[39m'\u001b[39m\u001b[39m'\u001b[39m)\n",
      "\u001b[0;31mFileNotFoundError\u001b[0m: [Errno 2] No such file or directory: '../../../../../Downloads/train-labels-idx1-ubyte'"
     ]
    }
   ],
   "source": [
    "# Read train-images-idx3-ubyte.gz and train-labels-idx1-ubyte.gz\n",
    "import gzip\n",
    "\n",
    "def read_mnist(images_path, labels_path):\n",
    "    with gzip.open(labels_path, 'rb') as lbpath:\n",
    "        y_train = np.frombuffer(lbpath.read(), dtype=np.uint8, offset=8)\n",
    "    with gzip.open(images_path, 'rb') as imgpath:\n",
    "        X_train = np.frombuffer(imgpath.read(), dtype=np.uint8, offset=16).reshape(len(y_train), 784)\n",
    "    return X_train, y_train\n",
    "\n",
    "X_train, y_train = read_mnist('../../../../../Downloads/train-images-idx3-ubyte', '../../../../../Downloads/train-labels-idx1-ubyte')"
   ]
  },
  {
   "cell_type": "code",
   "execution_count": 39,
   "metadata": {},
   "outputs": [
    {
     "name": "stdout",
     "output_type": "stream",
     "text": [
      "325f3a530ad9bb6fc2e4a193c6ef6de5-1673029923.pdf\n",
      "4532-Article Text-7571-1-10-20190706.pdf\n",
      "Affidavit_of_Age_and_Identity.pdf\n",
      "Apocalust_0.05_Mac.zip\n",
      "\u001b[1m\u001b[36mArchive\u001b[m\u001b[m/\n",
      "Archive.zip\n",
      "BlueStacksInstaller_4.270.1.2803_d6635d1354ffde0333a03d510a97467b.dmg\n",
      "BreakTimer.dmg\n",
      "\u001b[1m\u001b[36mC-HMCNN\u001b[m\u001b[m/\n",
      "Education_.docx\n",
      "\u001b[1m\u001b[36mGuiltyPleasure.app\u001b[m\u001b[m/\n",
      "Homework2.pdf\n",
      "Homework3.pdf\n",
      "IMG_3868.HEIC\n",
      "Lecture 17, 18, 19 & 20_ Dynamic Programming .pdf\n",
      "Lecture 3 v3.pdf\n",
      "Lecture 5.pdf\n",
      "Loom-0.156.5-arm64.dmg\n",
      "M-T5534GCPA-1005.3[E230].zip\n",
      "Midterm-I.pdf\n",
      "NSSTC-UAH-WIRELESS-prakashs-work-macbook-pro.p12\n",
      "Post-midterm brushup.pdf\n",
      "Q8.jpg\n",
      "Resume-Prakash-Chaudhary.pdf\n",
      "\u001b[1m\u001b[36marchive-2\u001b[m\u001b[m/\n",
      "cover_letter.pdf\n",
      "\u001b[1m\u001b[36mdata\u001b[m\u001b[m/\n",
      "draw.io-arm64-20.8.16.dmg\n",
      "events-export.zip\n",
      "googlechrome.dmg\n",
      "gs_masters_pos.pdf\n",
      "\u001b[1m\u001b[36mhiercost\u001b[m\u001b[m/\n",
      "hw1_prakash_chaudhary.pdf\n",
      "hw1_ucs_graph.png\n",
      "image.png\n",
      "mac_macos.pdf\n",
      "ms-toolsai.jupyter-2023.2.1000401035.vsix\n",
      "naturalcomputing-chapter3.pdf\n",
      "personal_statement.pdf\n",
      "renpy-8.0.3-sdk.dmg\n",
      "resume.pdf\n",
      "sciencekeywords.csv\n",
      "the-witcher-enhanced-edition-356792.torrent\n",
      "train-images.idx3-ubyte\n",
      "train-labels.idx1-ubyte\n",
      "unofficial_academic_transcript.pdf\n",
      "xy_data_list_GOG.p\n"
     ]
    }
   ],
   "source": [
    "ls ../../../../../Downloads/"
   ]
  },
  {
   "cell_type": "code",
   "execution_count": null,
   "metadata": {},
   "outputs": [],
   "source": []
  }
 ],
 "metadata": {
  "kernelspec": {
   "display_name": "Python 3",
   "language": "python",
   "name": "python3"
  },
  "language_info": {
   "codemirror_mode": {
    "name": "ipython",
    "version": 3
   },
   "file_extension": ".py",
   "mimetype": "text/x-python",
   "name": "python",
   "nbconvert_exporter": "python",
   "pygments_lexer": "ipython3",
   "version": "3.10.8"
  },
  "orig_nbformat": 4,
  "vscode": {
   "interpreter": {
    "hash": "b0fa6594d8f4cbf19f97940f81e996739fb7646882a419484c72d19e05852a7e"
   }
  }
 },
 "nbformat": 4,
 "nbformat_minor": 2
}
